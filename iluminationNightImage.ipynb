{
 "cells": [
  {
   "cell_type": "code",
   "execution_count": 1,
   "metadata": {},
   "outputs": [],
   "source": [
    "import cv2\n",
    "import numpy as np"
   ]
  },
  {
   "cell_type": "code",
   "execution_count": 2,
   "metadata": {},
   "outputs": [],
   "source": [
    "def get_illumination_channel(I, w):\n",
    "    M, N, _ = I.shape\n",
    "    padded = np.pad(I, ((int(w/2), int(w/2)), (int(w/2), int(w/2)), (0, 0)), 'edge')\n",
    "    darkch = np.zeros((M, N))\n",
    "    brightch = np.zeros((M, N))\n",
    "    \n",
    "    for i, j in np.ndindex(darkch.shape):\n",
    "        darkch[i, j]  =  np.min(padded[i:i + w, j:j + w, :])\n",
    "        brightch[i, j] = np.max(padded[i:i + w, j:j + w, :])\n",
    "    \n",
    "    return darkch, brightch"
   ]
  },
  {
   "cell_type": "code",
   "execution_count": 22,
   "metadata": {},
   "outputs": [
    {
     "name": "stdout",
     "output_type": "stream",
     "text": [
      "[[0. 0. 0. ... 0. 0. 0.]\n",
      " [0. 0. 0. ... 0. 0. 0.]\n",
      " [0. 0. 0. ... 0. 0. 0.]\n",
      " ...\n",
      " [0. 0. 0. ... 0. 0. 0.]\n",
      " [0. 0. 0. ... 0. 0. 0.]\n",
      " [0. 0. 0. ... 0. 0. 0.]] [[8. 8. 8. ... 8. 8. 8.]\n",
      " [8. 8. 8. ... 8. 8. 8.]\n",
      " [8. 8. 8. ... 8. 8. 8.]\n",
      " ...\n",
      " [5. 5. 5. ... 4. 4. 4.]\n",
      " [5. 5. 5. ... 4. 4. 4.]\n",
      " [5. 5. 5. ... 4. 4. 4.]]\n"
     ]
    }
   ],
   "source": [
    "I = cv2.imread('./darkInCars.jpeg')\n",
    "darkch,brightch = get_illumination_channel(I, 50)\n",
    "print(darkch,brightch)"
   ]
  },
  {
   "cell_type": "code",
   "execution_count": 10,
   "metadata": {},
   "outputs": [],
   "source": [
    "def get_atmosphere(I, brightch, p=0.1):\n",
    "    M, N = brightch.shape\n",
    "    flatI = I.reshape(M*N, 3) # reshaping image array\n",
    "    flatbright = brightch.ravel() #flattening image array\n",
    "\n",
    "    searchidx = (-flatbright).argsort()[:int(M*N*p)] # sorting and slicing\n",
    "    A = np.mean(flatI.take(searchidx, axis=0), dtype=np.float64, axis=0)\n",
    "    return A"
   ]
  },
  {
   "cell_type": "code",
   "execution_count": 23,
   "metadata": {},
   "outputs": [],
   "source": [
    "A = get_atmosphere(I, brightch)"
   ]
  },
  {
   "cell_type": "code",
   "execution_count": 24,
   "metadata": {},
   "outputs": [],
   "source": [
    "def get_initial_transmission(A, brightch):\n",
    "    A_c = np.max(A)\n",
    "    init_t = (brightch-A_c)/(1.-A_c) # finding initial transmission map\n",
    "    return (init_t - np.min(init_t))/(np.max(init_t) - np.min(init_t)) # normalized initial transmission map\n"
   ]
  },
  {
   "cell_type": "code",
   "execution_count": 26,
   "metadata": {},
   "outputs": [
    {
     "data": {
      "text/plain": [
       "True"
      ]
     },
     "execution_count": 26,
     "metadata": {},
     "output_type": "execute_result"
    }
   ],
   "source": [
    "init_t = get_initial_transmission(A, brightch)\n",
    "cv2.imwrite('./test.jpg', init_t)"
   ]
  },
  {
   "cell_type": "code",
   "execution_count": 19,
   "metadata": {},
   "outputs": [],
   "source": [
    "def get_corrected_transmission(I, A, darkch, brightch, init_t, alpha, omega, w):\n",
    "    im = np.empty(I.shape, I.dtype);\n",
    "    for ind in range(0, 3):\n",
    "        im[:, :, ind] = I[:, :, ind] / A[ind] #divide pixel values by atmospheric light\n",
    "    dark_c, _ = get_illumination_channel(im, w) # dark channel transmission map\n",
    "    dark_t = 1 - omega*dark_c # corrected dark transmission map\n",
    "    corrected_t = init_t # initializing corrected transmission map with initial transmission map\n",
    "    diffch = brightch - darkch # difference between transmission maps\n",
    " \n",
    "    for i in range(diffch.shape[0]):\n",
    "        for j in range(diffch.shape[1]):\n",
    "            if(diffch[i, j] < alpha):\n",
    "                corrected_t[i, j] = dark_t[i, j] * init_t[i, j]\n",
    " \n",
    "    return np.abs(corrected_t)"
   ]
  },
  {
   "cell_type": "code",
   "execution_count": 20,
   "metadata": {},
   "outputs": [
    {
     "data": {
      "text/plain": [
       "array([[0.976, 0.976, 0.976, ..., 0.968, 0.968, 0.96 ],\n",
       "       [0.976, 0.976, 0.976, ..., 0.968, 0.968, 0.96 ],\n",
       "       [0.976, 0.976, 0.976, ..., 0.968, 0.968, 0.96 ],\n",
       "       ...,\n",
       "       [0.976, 0.976, 0.976, ..., 0.976, 0.976, 0.968],\n",
       "       [0.976, 0.976, 0.976, ..., 0.976, 0.976, 0.968],\n",
       "       [0.976, 0.976, 0.976, ..., 0.976, 0.976, 0.968]])"
      ]
     },
     "execution_count": 20,
     "metadata": {},
     "output_type": "execute_result"
    }
   ],
   "source": [
    "omega=0.75\n",
    "alpha=0.4\n",
    "w=1\n",
    "get_corrected_transmission(I, A, darkch, brightch, init_t, alpha, omega, w)"
   ]
  }
 ],
 "metadata": {
  "kernelspec": {
   "display_name": "base",
   "language": "python",
   "name": "python3"
  },
  "language_info": {
   "codemirror_mode": {
    "name": "ipython",
    "version": 3
   },
   "file_extension": ".py",
   "mimetype": "text/x-python",
   "name": "python",
   "nbconvert_exporter": "python",
   "pygments_lexer": "ipython3",
   "version": "3.11.5"
  }
 },
 "nbformat": 4,
 "nbformat_minor": 2
}
